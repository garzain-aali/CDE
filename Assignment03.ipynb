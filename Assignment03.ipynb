{
 "cells": [
  {
   "cell_type": "markdown",
   "id": "32e38575",
   "metadata": {},
   "source": [
    "# Python List Assignments (Beginner Friendly)\n",
    "\n",
    "This notebook contains **10 basic assignments** written in a very simple (noob-friendly) style.\n",
    "\n",
    "👉 Each question has:\n",
    "- Problem statement\n",
    "- Step-by-step code solution\n"
   ]
  },
  {
   "cell_type": "markdown",
   "id": "5783328a",
   "metadata": {},
   "source": [
    "## Q1: Print Alternate Elements of a List\n",
    "Write a program that accepts a list from the user and prints the **alternate elements** of the list."
   ]
  },
  {
   "cell_type": "code",
   "execution_count": 2,
   "id": "bebfa74f",
   "metadata": {},
   "outputs": [
    {
     "name": "stdin",
     "output_type": "stream",
     "text": [
      "Enter numbers separated by commas:  Pakistan, 1947\n"
     ]
    },
    {
     "name": "stdout",
     "output_type": "stream",
     "text": [
      "Alternate elements are:\n",
      "Pakistan\n"
     ]
    }
   ],
   "source": [
    "# Q1 Solution - Print alternate elements of a list\n",
    "\n",
    "user_input = input(\"Enter numbers separated by commas: \")\n",
    "\n",
    "my_list = user_input.split(\",\")\n",
    "\n",
    "print(\"Alternate elements are:\")\n",
    "for i in range(0, len(my_list), 2):\n",
    "    print(my_list[i])\n"
   ]
  },
  {
   "cell_type": "markdown",
   "id": "cb6a62e4",
   "metadata": {},
   "source": [
    "## Q2: Reverse List Without reverse()\n",
    "Accept a list from user and reverse its content without using the `reverse()` method."
   ]
  },
  {
   "cell_type": "code",
   "execution_count": 3,
   "id": "0286a3a6",
   "metadata": {},
   "outputs": [
    {
     "name": "stdin",
     "output_type": "stream",
     "text": [
      "Enter numbers separated by commas:  Pakistan,1947\n"
     ]
    },
    {
     "name": "stdout",
     "output_type": "stream",
     "text": [
      "Reversed list: ['1947', 'Pakistan']\n"
     ]
    }
   ],
   "source": [
    "# Q2 Solution - Reverse list without using reverse()\n",
    "\n",
    "user_input = input(\"Enter numbers separated by commas: \")\n",
    "my_list = user_input.split(\",\")\n",
    "\n",
    "reversed_list = []\n",
    "for i in range(len(my_list)-1, -1, -1):\n",
    "    reversed_list.append(my_list[i])\n",
    "\n",
    "print(\"Reversed list:\", reversed_list)\n"
   ]
  },
  {
   "cell_type": "markdown",
   "id": "66d0c83a",
   "metadata": {},
   "source": [
    "## Q3: Find Largest Number Without max()\n",
    "Ask the user to input list values and find the largest number without using the built-in `max()` function."
   ]
  },
  {
   "cell_type": "code",
   "execution_count": 6,
   "id": "8df318c6",
   "metadata": {},
   "outputs": [
    {
     "name": "stdin",
     "output_type": "stream",
     "text": [
      "Enter numbers separated by commas:  19,47\n"
     ]
    },
    {
     "name": "stdout",
     "output_type": "stream",
     "text": [
      "Largest number is: 47\n"
     ]
    }
   ],
   "source": [
    "# Q3 Solution - Find largest number without using max()\n",
    "\n",
    "user_input = input(\"Enter numbers separated by commas: \")\n",
    "my_list = [int(x) for x in user_input.split(\",\")]\n",
    "\n",
    "largest = my_list[0]\n",
    "\n",
    "for num in my_list:\n",
    "    if num > largest:\n",
    "        largest = num\n",
    "\n",
    "print(\"Largest number is:\", largest)\n"
   ]
  },
  {
   "cell_type": "markdown",
   "id": "d08399c4",
   "metadata": {},
   "source": [
    "## Q4: Rotate List Elements\n",
    "Rotate elements so that the first element moves to the last position and others shift forward."
   ]
  },
  {
   "cell_type": "code",
   "execution_count": 7,
   "id": "f07ee3af",
   "metadata": {},
   "outputs": [
    {
     "name": "stdin",
     "output_type": "stream",
     "text": [
      "Enter elements separated by commas:  Pakistan,1947\n"
     ]
    },
    {
     "name": "stdout",
     "output_type": "stream",
     "text": [
      "Rotated list: ['1947', 'Pakistan']\n"
     ]
    }
   ],
   "source": [
    "# Q4 Solution - Rotate list\n",
    "\n",
    "user_input = input(\"Enter elements separated by commas: \")\n",
    "my_list = user_input.split(\",\")\n",
    "\n",
    "first = my_list[0]\n",
    "rotated_list = my_list[1:]\n",
    "rotated_list.append(first)\n",
    "\n",
    "print(\"Rotated list:\", rotated_list)\n"
   ]
  },
  {
   "cell_type": "markdown",
   "id": "704236e3",
   "metadata": {},
   "source": [
    "## Q5: Delete Word From String\n",
    "Take a string and ask user which word to delete."
   ]
  },
  {
   "cell_type": "code",
   "execution_count": 8,
   "id": "04d34c46",
   "metadata": {},
   "outputs": [
    {
     "name": "stdin",
     "output_type": "stream",
     "text": [
      "Enter a sentence:  Pakistan,1947\n",
      "Enter the word you want to delete:  is\n"
     ]
    },
    {
     "name": "stdout",
     "output_type": "stream",
     "text": [
      "Updated sentence: Paktan,1947\n"
     ]
    }
   ],
   "source": [
    "# Q5 Solution - Delete word from string\n",
    "\n",
    "sentence = input(\"Enter a sentence: \")\n",
    "word_to_delete = input(\"Enter the word you want to delete: \")\n",
    "\n",
    "new_sentence = sentence.replace(word_to_delete, \"\")\n",
    "\n",
    "print(\"Updated sentence:\", new_sentence)\n"
   ]
  },
  {
   "cell_type": "markdown",
   "id": "9891c62f",
   "metadata": {},
   "source": [
    "## Q6: Format Date\n",
    "Read a date in the form `mm/dd/yyyy` and print it like `March 12, 2021`."
   ]
  },
  {
   "cell_type": "code",
   "execution_count": 9,
   "id": "059fb995",
   "metadata": {},
   "outputs": [
    {
     "name": "stdin",
     "output_type": "stream",
     "text": [
      "Enter date (mm/dd/yyyy):  08/14/1947\n"
     ]
    },
    {
     "name": "stdout",
     "output_type": "stream",
     "text": [
      "Formatted date: August 14, 1947\n"
     ]
    }
   ],
   "source": [
    "# Q6 Solution - Date formatting\n",
    "\n",
    "months = [\"January\",\"February\",\"March\",\"April\",\"May\",\"June\",\n",
    "          \"July\",\"August\",\"September\",\"October\",\"November\",\"December\"]\n",
    "\n",
    "date_input = input(\"Enter date (mm/dd/yyyy): \")\n",
    "mm, dd, yyyy = date_input.split(\"/\")\n",
    "\n",
    "month_name = months[int(mm)-1]\n",
    "print(f\"Formatted date: {month_name} {dd}, {yyyy}\")\n"
   ]
  },
  {
   "cell_type": "markdown",
   "id": "ef840bc6",
   "metadata": {},
   "source": [
    "## Q7: Capitalize Each Word\n",
    "Write a program with a function that capitalizes the first letter of every word in a sentence."
   ]
  },
  {
   "cell_type": "code",
   "execution_count": 11,
   "id": "a62d56f9",
   "metadata": {},
   "outputs": [
    {
     "name": "stdin",
     "output_type": "stream",
     "text": [
      "Enter a sentence:  pakistan,1947\n"
     ]
    },
    {
     "name": "stdout",
     "output_type": "stream",
     "text": [
      "Capitalized sentence: Pakistan,1947\n"
     ]
    }
   ],
   "source": [
    "# Q7 Solution - Capitalize each word\n",
    "\n",
    "def capitalize_words(sentence):\n",
    "    words = sentence.split()\n",
    "    new_words = []\n",
    "    for word in words:\n",
    "        new_words.append(word.capitalize())\n",
    "    return \" \".join(new_words)\n",
    "\n",
    "sentence = input(\"Enter a sentence: \")\n",
    "result = capitalize_words(sentence)\n",
    "print(\"Capitalized sentence:\", result)\n"
   ]
  },
  {
   "cell_type": "markdown",
   "id": "39512dd1",
   "metadata": {},
   "source": [
    "## Q8: Sum of Rows in Matrix\n",
    "Find the sum of each row in a matrix (m x n)."
   ]
  },
  {
   "cell_type": "code",
   "execution_count": 12,
   "id": "eedf393f",
   "metadata": {},
   "outputs": [
    {
     "name": "stdout",
     "output_type": "stream",
     "text": [
      "Row 1 : [2, 11, 7, 12]  Sum = 32\n",
      "Row 2 : [5, 2, 9, 15]  Sum = 31\n",
      "Row 3 : [8, 3, 10, 42]  Sum = 63\n"
     ]
    }
   ],
   "source": [
    "# Q8 Solution - Sum of rows in matrix\n",
    "\n",
    "# Example matrix\n",
    "matrix = [\n",
    "    [2, 11, 7, 12],\n",
    "    [5, 2, 9, 15],\n",
    "    [8, 3, 10, 42]\n",
    "]\n",
    "\n",
    "# Print matrix and row sums\n",
    "for i in range(len(matrix)):\n",
    "    row_sum = 0\n",
    "    for num in matrix[i]:\n",
    "        row_sum += num\n",
    "    print(\"Row\", i+1, \":\", matrix[i], \" Sum =\", row_sum)\n"
   ]
  },
  {
   "cell_type": "markdown",
   "id": "050433b9",
   "metadata": {},
   "source": [
    "## Q9: Add Two Matrices\n",
    "Write a program to add two matrices of size m x n."
   ]
  },
  {
   "cell_type": "code",
   "execution_count": 13,
   "id": "30917d06",
   "metadata": {},
   "outputs": [
    {
     "name": "stdout",
     "output_type": "stream",
     "text": [
      "Result of addition:\n",
      "[6, 8]\n",
      "[10, 12]\n"
     ]
    }
   ],
   "source": [
    "# Q9 Solution - Add two matrices\n",
    "\n",
    "A = [\n",
    "    [1, 2],\n",
    "    [3, 4]\n",
    "]\n",
    "\n",
    "B = [\n",
    "    [5, 6],\n",
    "    [7, 8]\n",
    "]\n",
    "\n",
    "result = []\n",
    "for i in range(len(A)):\n",
    "    row = []\n",
    "    for j in range(len(A[0])):\n",
    "        row.append(A[i][j] + B[i][j])\n",
    "    result.append(row)\n",
    "\n",
    "print(\"Result of addition:\")\n",
    "for row in result:\n",
    "    print(row)\n"
   ]
  },
  {
   "cell_type": "markdown",
   "id": "f9a2a6f1",
   "metadata": {},
   "source": [
    "## Q10: Multiply Two Matrices\n",
    "Write a program to multiply two matrices."
   ]
  },
  {
   "cell_type": "code",
   "execution_count": 14,
   "id": "da3594f8",
   "metadata": {},
   "outputs": [
    {
     "name": "stdout",
     "output_type": "stream",
     "text": [
      "Result of multiplication:\n",
      "[19, 22]\n",
      "[43, 50]\n"
     ]
    }
   ],
   "source": [
    "# Q10 Solution - Multiply two matrices\n",
    "\n",
    "A = [\n",
    "    [1, 2],\n",
    "    [3, 4]\n",
    "]\n",
    "\n",
    "B = [\n",
    "    [5, 6],\n",
    "    [7, 8]\n",
    "]\n",
    "\n",
    "result = [[0,0],[0,0]]\n",
    "\n",
    "for i in range(len(A)):\n",
    "    for j in range(len(B[0])):\n",
    "        for k in range(len(B)):\n",
    "            result[i][j] += A[i][k] * B[k][j]\n",
    "\n",
    "print(\"Result of multiplication:\")\n",
    "for row in result:\n",
    "    print(row)\n"
   ]
  }
 ],
 "metadata": {
  "kernelspec": {
   "display_name": "Python 3 (ipykernel)",
   "language": "python",
   "name": "python3"
  },
  "language_info": {
   "codemirror_mode": {
    "name": "ipython",
    "version": 3
   },
   "file_extension": ".py",
   "mimetype": "text/x-python",
   "name": "python",
   "nbconvert_exporter": "python",
   "pygments_lexer": "ipython3",
   "version": "3.13.5"
  }
 },
 "nbformat": 4,
 "nbformat_minor": 5
}
