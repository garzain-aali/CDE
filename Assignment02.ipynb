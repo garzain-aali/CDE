{
 "cells": [
  {
   "cell_type": "markdown",
   "id": "b7fa38ed",
   "metadata": {},
   "source": [
    "Q1: Write a program that accepts a string from user and count how many vowels (a, e, i, o, u) are in it."
   ]
  },
  {
   "cell_type": "code",
   "execution_count": 5,
   "id": "4cf9801c",
   "metadata": {},
   "outputs": [
    {
     "name": "stdin",
     "output_type": "stream",
     "text": [
      "Enter a string:  Pakistan\n"
     ]
    },
    {
     "name": "stdout",
     "output_type": "stream",
     "text": [
      "Number of vowels: 3\n"
     ]
    }
   ],
   "source": [
    "# Q1 Solution\n",
    "text = input(\"Enter a string: \")\n",
    "vowels = \"aeiouAEIOU\"\n",
    "count = 0\n",
    "for char in text:\n",
    "    if char in vowels:\n",
    "        count += 1\n",
    "print(\"Number of vowels:\", count)"
   ]
  },
  {
   "cell_type": "markdown",
   "id": "c15270f4",
   "metadata": {},
   "source": [
    "Q2: Write a program that reads a string and shows:\n",
    "- Number of uppercase letters\n",
    "- Number of lowercase letters\n",
    "- Number of digits\n",
    "- Number of spaces"
   ]
  },
  {
   "cell_type": "code",
   "execution_count": 4,
   "id": "3e2c70a2",
   "metadata": {},
   "outputs": [
    {
     "name": "stdin",
     "output_type": "stream",
     "text": [
      "Enter text:  Pakistan 1947 \n"
     ]
    },
    {
     "name": "stdout",
     "output_type": "stream",
     "text": [
      "Uppercase letters: 1\n",
      "Lowercase letters: 7\n",
      "Digits: 4\n",
      "Spaces: 2\n"
     ]
    }
   ],
   "source": [
    "# Q2 Solution\n",
    "text = input(\"Enter text: \")\n",
    "upper_count = 0\n",
    "lower_count = 0\n",
    "digit_count = 0\n",
    "space_count = 0\n",
    "\n",
    "for ch in text:\n",
    "    if ch.isupper():\n",
    "        upper_count += 1\n",
    "    elif ch.islower():\n",
    "        lower_count += 1\n",
    "    elif ch.isdigit():\n",
    "        digit_count += 1\n",
    "    elif ch.isspace():\n",
    "        space_count += 1\n",
    "\n",
    "print(\"Uppercase letters:\", upper_count)\n",
    "print(\"Lowercase letters:\", lower_count)\n",
    "print(\"Digits:\", digit_count)\n",
    "print(\"Spaces:\", space_count)"
   ]
  },
  {
   "cell_type": "markdown",
   "id": "d5eccdd1",
   "metadata": {},
   "source": [
    "Q3: Write a program that accepts a string and swaps the first and last character."
   ]
  },
  {
   "cell_type": "code",
   "execution_count": 3,
   "id": "8ac86432",
   "metadata": {},
   "outputs": [
    {
     "name": "stdin",
     "output_type": "stream",
     "text": [
      "Enter a string:  pakistan\n"
     ]
    },
    {
     "name": "stdout",
     "output_type": "stream",
     "text": [
      "New string: nakistap\n"
     ]
    }
   ],
   "source": [
    "# Q3 Solution\n",
    "text = input(\"Enter a string: \")\n",
    "if len(text) > 1:\n",
    "    new_text = text[-1] + text[1:-1] + text[0]\n",
    "else:\n",
    "    new_text = text\n",
    "print(\"New string:\", new_text)"
   ]
  },
  {
   "cell_type": "markdown",
   "id": "902d9b75",
   "metadata": {},
   "source": [
    "Q4: Write a program that accepts a string and shows it in reverse."
   ]
  },
  {
   "cell_type": "code",
   "execution_count": 6,
   "id": "837b49db",
   "metadata": {},
   "outputs": [
    {
     "name": "stdin",
     "output_type": "stream",
     "text": [
      "Enter a string:  Pakistan\n"
     ]
    },
    {
     "name": "stdout",
     "output_type": "stream",
     "text": [
      "Reversed string: natsikaP\n"
     ]
    }
   ],
   "source": [
    "# Q4 Solution\n",
    "text = input(\"Enter a string: \")\n",
    "reverse_text = \"\"\n",
    "for ch in text:\n",
    "    reverse_text = ch + reverse_text\n",
    "print(\"Reversed string:\", reverse_text)"
   ]
  },
  {
   "cell_type": "markdown",
   "id": "ad589bd1",
   "metadata": {},
   "source": [
    "Q5: Write a program that accepts a string and shifts it one position to the left.\n",
    "Example: 'abc' → 'bca'"
   ]
  },
  {
   "cell_type": "code",
   "execution_count": 7,
   "id": "e022d0d5",
   "metadata": {},
   "outputs": [
    {
     "name": "stdin",
     "output_type": "stream",
     "text": [
      "Enter a string:  Pakistan\n"
     ]
    },
    {
     "name": "stdout",
     "output_type": "stream",
     "text": [
      "Shifted string: akistanP\n"
     ]
    }
   ],
   "source": [
    "# Q5 Solution\n",
    "text = input(\"Enter a string: \")\n",
    "if len(text) > 0:\n",
    "    new_text = text[1:] + text[0]\n",
    "else:\n",
    "    new_text = text\n",
    "print(\"Shifted string:\", new_text)"
   ]
  },
  {
   "cell_type": "markdown",
   "id": "eec06d70",
   "metadata": {},
   "source": [
    "Q6: Write a program that asks the user to input full name (first, middle, last) and print initials.\n",
    "Example: Ajay Kumar Garg → A. K. G."
   ]
  },
  {
   "cell_type": "code",
   "execution_count": 8,
   "id": "203b1fef",
   "metadata": {},
   "outputs": [
    {
     "name": "stdin",
     "output_type": "stream",
     "text": [
      "Enter your full name (First Middle Last):  Muhammad Ali Jinnah\n"
     ]
    },
    {
     "name": "stdout",
     "output_type": "stream",
     "text": [
      "Initials: M. A. J. \n"
     ]
    }
   ],
   "source": [
    "# Q6 Solution\n",
    "name = input(\"Enter your full name (First Middle Last): \")\n",
    "initials = \"\"\n",
    "for ch in name:\n",
    "    if ch.isupper():\n",
    "        initials += ch + \". \"\n",
    "print(\"Initials:\", initials)"
   ]
  },
  {
   "cell_type": "markdown",
   "id": "89c60253",
   "metadata": {},
   "source": [
    "Q7: Write a program to check if a string is a palindrome (same forward and backward)."
   ]
  },
  {
   "cell_type": "code",
   "execution_count": 9,
   "id": "e62ba069",
   "metadata": {},
   "outputs": [
    {
     "name": "stdin",
     "output_type": "stream",
     "text": [
      "Enter a string:  Muhammad Ali Jinnah\n"
     ]
    },
    {
     "name": "stdout",
     "output_type": "stream",
     "text": [
      "Not Palindrome\n"
     ]
    }
   ],
   "source": [
    "# Q7 Solution\n",
    "text = input(\"Enter a string: \")\n",
    "reverse_text = \"\"\n",
    "for ch in text:\n",
    "    reverse_text = ch + reverse_text\n",
    "if text == reverse_text:\n",
    "    print(\"Palindrome\")\n",
    "else:\n",
    "    print(\"Not Palindrome\")"
   ]
  },
  {
   "cell_type": "markdown",
   "id": "3fb10798",
   "metadata": {},
   "source": [
    "Q8: Write a program to display the following output:\n",
    "SHIFT\n",
    "HIFTS\n",
    "IFTSH\n",
    "FTSHI\n",
    "TSHIF\n",
    "SHIFT"
   ]
  },
  {
   "cell_type": "code",
   "execution_count": 10,
   "id": "a4f3cab5",
   "metadata": {},
   "outputs": [
    {
     "name": "stdout",
     "output_type": "stream",
     "text": [
      "SHIFT\n",
      "HIFTS\n",
      "IFTSH\n",
      "FTSHI\n",
      "TSHIF\n"
     ]
    }
   ],
   "source": [
    "# Q8 Solution\n",
    "text = \"SHIFT\"\n",
    "for i in range(len(text)):\n",
    "    print(text)\n",
    "    text = text[1:] + text[0]"
   ]
  },
  {
   "cell_type": "markdown",
   "id": "88d592d6",
   "metadata": {},
   "source": [
    "Q9: Write a program to accept a password and check:\n",
    "- At least 8 characters\n",
    "- At least 1 uppercase letter\n",
    "- At least 1 lowercase letter\n",
    "- At least 1 number"
   ]
  },
  {
   "cell_type": "code",
   "execution_count": 16,
   "id": "8e346c2d-19fd-435d-9422-fae8800eafae",
   "metadata": {},
   "outputs": [
    {
     "name": "stdin",
     "output_type": "stream",
     "text": [
      "Please enter your password:  Pakistan1947\n"
     ]
    },
    {
     "name": "stdout",
     "output_type": "stream",
     "text": [
      "Password is valid!\n"
     ]
    }
   ],
   "source": [
    "password = input(\"Please enter your password: \")\n",
    "\n",
    "if len(password) < 8:\n",
    "    print(\"Password too short! It must have at least 8 characters.\")\n",
    "\n",
    "elif not any(ch.isupper() for ch in password):\n",
    "    print(\"Password must contain at least ONE uppercase letter (A-Z).\")\n",
    "\n",
    "elif not any(ch.islower() for ch in password):\n",
    "    print(\"Password must contain at least ONE lowercase letter (a-z).\")\n",
    "\n",
    "elif not any(ch.isdigit() for ch in password):\n",
    "    print(\"Password must contain at least ONE digit (0-9).\")\n",
    "\n",
    "else:\n",
    "    print(\"Password is valid!\")"
   ]
  }
 ],
 "metadata": {
  "kernelspec": {
   "display_name": "Python 3 (ipykernel)",
   "language": "python",
   "name": "python3"
  },
  "language_info": {
   "codemirror_mode": {
    "name": "ipython",
    "version": 3
   },
   "file_extension": ".py",
   "mimetype": "text/x-python",
   "name": "python",
   "nbconvert_exporter": "python",
   "pygments_lexer": "ipython3",
   "version": "3.13.5"
  }
 },
 "nbformat": 4,
 "nbformat_minor": 5
}
