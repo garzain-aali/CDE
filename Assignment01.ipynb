{
 "cells": [
  {
   "cell_type": "markdown",
   "id": "fa4be64a",
   "metadata": {},
   "source": [
    "# Part -1 Python Basics (Variables)"
   ]
  },
  {
   "cell_type": "markdown",
   "id": "d562ce8c",
   "metadata": {},
   "source": [
    "1. Print Your Name with your Father name and Date of birth using suitable escape sequence character"
   ]
  },
  {
   "cell_type": "code",
   "execution_count": 1,
   "id": "eaa7d55f",
   "metadata": {},
   "outputs": [
    {
     "name": "stdout",
     "output_type": "stream",
     "text": [
      "Name: Muhammad Garzain\n",
      "Father's Name: Rashid Khan\n",
      "Date of Birth: 01-01-2000\n"
     ]
    }
   ],
   "source": [
    "# Printing name, father name and DOB using escape sequences\n",
    "print(\"Name: Muhammad Garzain\\nFather's Name: Rashid Khan\\nDate of Birth: 01-01-2000\")"
   ]
  },
  {
   "cell_type": "markdown",
   "id": "e836e4b5",
   "metadata": {},
   "source": [
    "2. Write your small bio using variables and print it using print function"
   ]
  },
  {
   "cell_type": "code",
   "execution_count": 2,
   "id": "f6378522",
   "metadata": {},
   "outputs": [
    {
     "name": "stdout",
     "output_type": "stream",
     "text": [
      "My name is Muhammad Garzein\n",
      "I am 24 years old\n",
      "My hobby is Cooking\n",
      "My goal is To become an expert in Cyber Security\n"
     ]
    }
   ],
   "source": [
    "# Creating bio using variables\n",
    "name = \"Muhammad Garzein\"\n",
    "age = 24\n",
    "hobby = \"Cooking\"\n",
    "goal = \"To become an expert in Cyber Security\"\n",
    "\n",
    "print(\"My name is\", name)\n",
    "print(\"I am\", age, \"years old\")\n",
    "print(\"My hobby is\", hobby)\n",
    "print(\"My goal is\", goal)"
   ]
  },
  {
   "cell_type": "markdown",
   "id": "eb04196e",
   "metadata": {},
   "source": [
    "3. Write a program in which use all the operators we can use in Python"
   ]
  },
  {
   "cell_type": "code",
   "execution_count": 3,
   "id": "92c5597c",
   "metadata": {},
   "outputs": [
    {
     "name": "stdout",
     "output_type": "stream",
     "text": [
      "Addition: 13\n",
      "Subtraction: 7\n",
      "Multiplication: 30\n",
      "Division: 3.3333333333333335\n",
      "Floor Division: 3\n",
      "Modulus: 1\n",
      "Power: 1000\n"
     ]
    }
   ],
   "source": [
    "# Arithmetic Operators\n",
    "a, b = 10, 3\n",
    "print(\"Addition:\", a + b)\n",
    "print(\"Subtraction:\", a - b)\n",
    "print(\"Multiplication:\", a * b)\n",
    "print(\"Division:\", a / b)\n",
    "print(\"Floor Division:\", a // b)\n",
    "print(\"Modulus:\", a % b)\n",
    "print(\"Power:\", a ** b)\n"
   ]
  },
  {
   "cell_type": "markdown",
   "id": "fdcd3c74",
   "metadata": {},
   "source": [
    "4. Mention marks of English, Islamiat, Maths, total marks, and calculate percentage"
   ]
  },
  {
   "cell_type": "code",
   "execution_count": 4,
   "id": "1c898d6f",
   "metadata": {},
   "outputs": [
    {
     "name": "stdout",
     "output_type": "stream",
     "text": [
      "Obtained Marks: 255\n",
      "Percentage: 85.0 %\n"
     ]
    }
   ],
   "source": [
    "# Marks\n",
    "english = 85\n",
    "islamiat = 90\n",
    "maths = 80\n",
    "total_marks = 300\n",
    "\n",
    "# Calculate obtained marks\n",
    "obtained = english + islamiat + maths\n",
    "percentage = (obtained / total_marks) * 100\n",
    "\n",
    "print(\"Obtained Marks:\", obtained)\n",
    "print(\"Percentage:\", percentage, \"%\")"
   ]
  },
  {
   "cell_type": "markdown",
   "id": "34d6b144",
   "metadata": {},
   "source": [
    "# Part -2 Python Basics (Conditional Statements)"
   ]
  },
  {
   "cell_type": "markdown",
   "id": "7912d94f",
   "metadata": {},
   "source": [
    "1) Bonus program"
   ]
  },
  {
   "cell_type": "code",
   "execution_count": 5,
   "id": "5cbab739",
   "metadata": {},
   "outputs": [
    {
     "name": "stdin",
     "output_type": "stream",
     "text": [
      "Enter your salary:  50000\n",
      "Enter years of service:  10\n"
     ]
    },
    {
     "name": "stdout",
     "output_type": "stream",
     "text": [
      "You got bonus: 2500.0\n"
     ]
    }
   ],
   "source": [
    "salary = int(input(\"Enter your salary: \"))\n",
    "years = int(input(\"Enter years of service: \"))\n",
    "\n",
    "if years > 5:\n",
    "    bonus = salary * 0.05\n",
    "    print(\"You got bonus:\", bonus)\n",
    "else:\n",
    "    print(\"No bonus\")"
   ]
  },
  {
   "cell_type": "markdown",
   "id": "9d600f3e",
   "metadata": {},
   "source": [
    "2) Voting eligibility"
   ]
  },
  {
   "cell_type": "code",
   "execution_count": 6,
   "id": "788ccbf2",
   "metadata": {},
   "outputs": [
    {
     "name": "stdin",
     "output_type": "stream",
     "text": [
      "Enter your age:  29\n"
     ]
    },
    {
     "name": "stdout",
     "output_type": "stream",
     "text": [
      "You are eligible to vote.\n"
     ]
    }
   ],
   "source": [
    "age = int(input(\"Enter your age: \"))\n",
    "if age >= 18:\n",
    "    print(\"You are eligible to vote.\")\n",
    "else:\n",
    "    print(\"You are not eligible to vote.\")"
   ]
  },
  {
   "cell_type": "markdown",
   "id": "cf324e00",
   "metadata": {},
   "source": [
    "3) Even or Odd check"
   ]
  },
  {
   "cell_type": "code",
   "execution_count": 7,
   "id": "4778bc1b",
   "metadata": {},
   "outputs": [
    {
     "name": "stdin",
     "output_type": "stream",
     "text": [
      "Enter a number:  58\n"
     ]
    },
    {
     "name": "stdout",
     "output_type": "stream",
     "text": [
      "58 is Even\n"
     ]
    }
   ],
   "source": [
    "num = int(input(\"Enter a number: \"))\n",
    "if num % 2 == 0:\n",
    "    print(num, \"is Even\")\n",
    "else:\n",
    "    print(num, \"is Odd\")"
   ]
  },
  {
   "cell_type": "markdown",
   "id": "097734fa",
   "metadata": {},
   "source": [
    "4) Divisible by 7"
   ]
  },
  {
   "cell_type": "code",
   "execution_count": 8,
   "id": "65b5bd65",
   "metadata": {},
   "outputs": [
    {
     "name": "stdin",
     "output_type": "stream",
     "text": [
      "Enter a number:  9\n"
     ]
    },
    {
     "name": "stdout",
     "output_type": "stream",
     "text": [
      "9 is not divisible by 7\n"
     ]
    }
   ],
   "source": [
    "num = int(input(\"Enter a number: \"))\n",
    "if num % 7 == 0:\n",
    "    print(num, \"is divisible by 7\")\n",
    "else:\n",
    "    print(num, \"is not divisible by 7\")"
   ]
  },
  {
   "cell_type": "markdown",
   "id": "91e81481",
   "metadata": {},
   "source": [
    "5) Multiple of 5 check"
   ]
  },
  {
   "cell_type": "code",
   "execution_count": 9,
   "id": "d3480de2",
   "metadata": {},
   "outputs": [
    {
     "name": "stdin",
     "output_type": "stream",
     "text": [
      "Enter a number:  89\n"
     ]
    },
    {
     "name": "stdout",
     "output_type": "stream",
     "text": [
      "Bye\n"
     ]
    }
   ],
   "source": [
    "num = int(input(\"Enter a number: \"))\n",
    "if num % 5 == 0:\n",
    "    print(\"Hello\")\n",
    "else:\n",
    "    print(\"Bye\")"
   ]
  },
  {
   "cell_type": "markdown",
   "id": "e416f6fb",
   "metadata": {},
   "source": [
    "7) Last digit of number"
   ]
  },
  {
   "cell_type": "code",
   "execution_count": 10,
   "id": "37d094ec",
   "metadata": {},
   "outputs": [
    {
     "name": "stdin",
     "output_type": "stream",
     "text": [
      "Enter a number:  678\n"
     ]
    },
    {
     "name": "stdout",
     "output_type": "stream",
     "text": [
      "Last digit: 8\n"
     ]
    }
   ],
   "source": [
    "num = int(input(\"Enter a number: \"))\n",
    "last_digit = num % 10\n",
    "print(\"Last digit:\", last_digit)"
   ]
  },
  {
   "cell_type": "markdown",
   "id": "3d691adf",
   "metadata": {},
   "source": [
    "9) Square or Rectangle"
   ]
  },
  {
   "cell_type": "code",
   "execution_count": 11,
   "id": "0dc7c80d",
   "metadata": {},
   "outputs": [
    {
     "name": "stdin",
     "output_type": "stream",
     "text": [
      "Enter length:  3\n",
      "Enter breadth:  9\n"
     ]
    },
    {
     "name": "stdout",
     "output_type": "stream",
     "text": [
      "It is a Rectangle\n"
     ]
    }
   ],
   "source": [
    "length = int(input(\"Enter length: \"))\n",
    "breadth = int(input(\"Enter breadth: \"))\n",
    "\n",
    "if length == breadth:\n",
    "    print(\"It is a Square\")\n",
    "else:\n",
    "    print(\"It is a Rectangle\")"
   ]
  },
  {
   "cell_type": "markdown",
   "id": "e651b7c0",
   "metadata": {},
   "source": [
    "10) Greatest among two numbers"
   ]
  },
  {
   "cell_type": "code",
   "execution_count": 13,
   "id": "a01c7a5d",
   "metadata": {},
   "outputs": [
    {
     "name": "stdin",
     "output_type": "stream",
     "text": [
      "Enter first number:  34\n",
      "Enter second number:  65\n"
     ]
    },
    {
     "name": "stdout",
     "output_type": "stream",
     "text": [
      "Greatest is: 65\n"
     ]
    }
   ],
   "source": [
    "a = int(input(\"Enter first number: \"))\n",
    "b = int(input(\"Enter second number: \"))\n",
    "\n",
    "if a > b:\n",
    "    print(\"Greatest is:\", a)\n",
    "elif b > a:\n",
    "    print(\"Greatest is:\", b)\n",
    "else:\n",
    "    print(\"Both are equal\")"
   ]
  },
  {
   "cell_type": "markdown",
   "id": "97b0f43c",
   "metadata": {},
   "source": [
    "11) Shop discount"
   ]
  },
  {
   "cell_type": "code",
   "execution_count": 14,
   "id": "0c852578",
   "metadata": {},
   "outputs": [
    {
     "name": "stdin",
     "output_type": "stream",
     "text": [
      "Enter quantity:  19\n"
     ]
    },
    {
     "name": "stdout",
     "output_type": "stream",
     "text": [
      "Total cost: 1710.0\n"
     ]
    }
   ],
   "source": [
    "quantity = int(input(\"Enter quantity: \"))\n",
    "cost = quantity * 100\n",
    "\n",
    "if cost > 1000:\n",
    "    cost -= cost * 0.10\n",
    "print(\"Total cost:\", cost)"
   ]
  },
  {
   "cell_type": "markdown",
   "id": "40210974",
   "metadata": {},
   "source": [
    "12) Grading system"
   ]
  },
  {
   "cell_type": "code",
   "execution_count": 15,
   "id": "212974a4",
   "metadata": {},
   "outputs": [
    {
     "name": "stdin",
     "output_type": "stream",
     "text": [
      "Enter your marks:  75\n"
     ]
    },
    {
     "name": "stdout",
     "output_type": "stream",
     "text": [
      "Your grade is: B\n"
     ]
    }
   ],
   "source": [
    "marks = int(input(\"Enter your marks: \"))\n",
    "\n",
    "if marks < 25:\n",
    "    grade = \"F\"\n",
    "elif marks < 45:\n",
    "    grade = \"E\"\n",
    "elif marks < 50:\n",
    "    grade = \"D\"\n",
    "elif marks < 60:\n",
    "    grade = \"C\"\n",
    "elif marks < 80:\n",
    "    grade = \"B\"\n",
    "else:\n",
    "    grade = \"A\"\n",
    "\n",
    "print(\"Your grade is:\", grade)"
   ]
  },
  {
   "cell_type": "markdown",
   "id": "7b632a29",
   "metadata": {},
   "source": [
    "13) Oldest and youngest among 3"
   ]
  },
  {
   "cell_type": "code",
   "execution_count": 16,
   "id": "e136a383",
   "metadata": {},
   "outputs": [
    {
     "name": "stdin",
     "output_type": "stream",
     "text": [
      "Enter age of first person:  10\n",
      "Enter age of second person:  27\n",
      "Enter age of third person:  84\n"
     ]
    },
    {
     "name": "stdout",
     "output_type": "stream",
     "text": [
      "Oldest age is: 84\n",
      "Youngest age is: 10\n"
     ]
    }
   ],
   "source": [
    "a = int(input(\"Enter age of first person: \"))\n",
    "b = int(input(\"Enter age of second person: \"))\n",
    "c = int(input(\"Enter age of third person: \"))\n",
    "\n",
    "print(\"Oldest age is:\", max(a, b, c))\n",
    "print(\"Youngest age is:\", min(a, b, c))"
   ]
  },
  {
   "cell_type": "markdown",
   "id": "d0682f9f",
   "metadata": {},
   "source": [
    "14) Exam eligibility based on attendance"
   ]
  },
  {
   "cell_type": "code",
   "execution_count": 17,
   "id": "cfd2053c",
   "metadata": {},
   "outputs": [
    {
     "name": "stdin",
     "output_type": "stream",
     "text": [
      "Enter number of classes held:  67\n",
      "Enter number of classes attended:  83\n"
     ]
    },
    {
     "name": "stdout",
     "output_type": "stream",
     "text": [
      "Attendance percentage: 123.88059701492537\n",
      "Allowed to sit in exam\n"
     ]
    }
   ],
   "source": [
    "classes_held = int(input(\"Enter number of classes held: \"))\n",
    "classes_attended = int(input(\"Enter number of classes attended: \"))\n",
    "\n",
    "attendance = (classes_attended / classes_held) * 100\n",
    "print(\"Attendance percentage:\", attendance)\n",
    "\n",
    "if attendance >= 75:\n",
    "    print(\"Allowed to sit in exam\")\n",
    "else:\n",
    "    print(\"Not allowed to sit in exam\")"
   ]
  },
  {
   "cell_type": "markdown",
   "id": "a4d4153d",
   "metadata": {},
   "source": [
    "15) Exam eligibility with medical cause"
   ]
  },
  {
   "cell_type": "code",
   "execution_count": 18,
   "id": "ccf187de",
   "metadata": {},
   "outputs": [
    {
     "name": "stdin",
     "output_type": "stream",
     "text": [
      "Enter number of classes held:  36\n",
      "Enter number of classes attended:  84\n",
      "Do you have medical cause? (Y/N):  y\n"
     ]
    },
    {
     "name": "stdout",
     "output_type": "stream",
     "text": [
      "Attendance percentage: 233.33333333333334\n",
      "Allowed to sit in exam\n"
     ]
    }
   ],
   "source": [
    "classes_held = int(input(\"Enter number of classes held: \"))\n",
    "classes_attended = int(input(\"Enter number of classes attended: \"))\n",
    "medical = input(\"Do you have medical cause? (Y/N): \")\n",
    "\n",
    "attendance = (classes_attended / classes_held) * 100\n",
    "print(\"Attendance percentage:\", attendance)\n",
    "\n",
    "if attendance >= 75 or medical.upper() == \"Y\":\n",
    "    print(\"Allowed to sit in exam\")\n",
    "else:\n",
    "    print(\"Not allowed to sit in exam\")"
   ]
  },
  {
   "cell_type": "markdown",
   "id": "7218d2b7",
   "metadata": {},
   "source": [
    "16) Leap year check"
   ]
  },
  {
   "cell_type": "code",
   "execution_count": 19,
   "id": "ca040a50",
   "metadata": {},
   "outputs": [
    {
     "name": "stdin",
     "output_type": "stream",
     "text": [
      "Enter year:  2026\n"
     ]
    },
    {
     "name": "stdout",
     "output_type": "stream",
     "text": [
      "2026 is not a Leap Year\n"
     ]
    }
   ],
   "source": [
    "year = int(input(\"Enter year: \"))\n",
    "\n",
    "if (year % 4 == 0 and year % 100 != 0) or (year % 400 == 0):\n",
    "    print(year, \"is a Leap Year\")\n",
    "else:\n",
    "    print(year, \"is not a Leap Year\")"
   ]
  },
  {
   "cell_type": "markdown",
   "id": "9fa5e87a",
   "metadata": {},
   "source": [
    "17) Place of service"
   ]
  },
  {
   "cell_type": "code",
   "execution_count": 20,
   "id": "071cdce0",
   "metadata": {},
   "outputs": [
    {
     "name": "stdin",
     "output_type": "stream",
     "text": [
      "Enter age:  63\n",
      "Enter gender (M/F):  F\n"
     ]
    },
    {
     "name": "stdout",
     "output_type": "stream",
     "text": [
      "She will work only in urban areas\n"
     ]
    }
   ],
   "source": [
    "age = int(input(\"Enter age: \"))\n",
    "gender = input(\"Enter gender (M/F): \").upper()\n",
    "\n",
    "if gender == \"F\":\n",
    "    print(\"She will work only in urban areas\")\n",
    "elif gender == \"M\":\n",
    "    if 20 <= age <= 40:\n",
    "        print(\"He may work anywhere\")\n",
    "    elif 40 < age <= 60:\n",
    "        print(\"He will work in urban areas only\")\n",
    "    else:\n",
    "        print(\"ERROR\")\n",
    "else:\n",
    "    print(\"Invalid input\")"
   ]
  },
  {
   "cell_type": "markdown",
   "id": "ea105ff0",
   "metadata": {},
   "source": [
    "6) Electricity Bill"
   ]
  },
  {
   "cell_type": "code",
   "execution_count": 21,
   "id": "7530962a",
   "metadata": {},
   "outputs": [
    {
     "name": "stdin",
     "output_type": "stream",
     "text": [
      "Enter number of units:  250\n"
     ]
    },
    {
     "name": "stdout",
     "output_type": "stream",
     "text": [
      "Total bill is Rs. 750\n"
     ]
    }
   ],
   "source": [
    "units = int(input(\"Enter number of units: \"))\n",
    "\n",
    "if units <= 100:\n",
    "    bill = 0\n",
    "elif units <= 300:\n",
    "    bill = (units - 100) * 5\n",
    "else:\n",
    "    bill = (200 * 5) + (units - 300) * 10\n",
    "\n",
    "print(\"Total bill is Rs.\", bill)"
   ]
  }
 ],
 "metadata": {
  "kernelspec": {
   "display_name": "Python 3 (ipykernel)",
   "language": "python",
   "name": "python3"
  },
  "language_info": {
   "codemirror_mode": {
    "name": "ipython",
    "version": 3
   },
   "file_extension": ".py",
   "mimetype": "text/x-python",
   "name": "python",
   "nbconvert_exporter": "python",
   "pygments_lexer": "ipython3",
   "version": "3.13.5"
  }
 },
 "nbformat": 4,
 "nbformat_minor": 5
}
