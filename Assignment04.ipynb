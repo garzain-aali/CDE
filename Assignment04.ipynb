{
 "cells": [
  {
   "cell_type": "markdown",
   "id": "648734f5",
   "metadata": {},
   "source": [
    "## Q1: Print numbers 1 to 10 using for loop"
   ]
  },
  {
   "cell_type": "code",
   "execution_count": 1,
   "id": "28835592",
   "metadata": {},
   "outputs": [
    {
     "name": "stdout",
     "output_type": "stream",
     "text": [
      "1\n",
      "2\n",
      "3\n",
      "4\n",
      "5\n",
      "6\n",
      "7\n",
      "8\n",
      "9\n",
      "10\n"
     ]
    }
   ],
   "source": [
    "# Q1 Solution\n",
    "for i in range(1, 11):\n",
    "    print(i)"
   ]
  },
  {
   "cell_type": "markdown",
   "id": "9aaf587e",
   "metadata": {},
   "source": [
    "## Q2: Print numbers 20 to 1 using while loop"
   ]
  },
  {
   "cell_type": "code",
   "execution_count": 2,
   "id": "10c9ee1b",
   "metadata": {},
   "outputs": [
    {
     "name": "stdout",
     "output_type": "stream",
     "text": [
      "20\n",
      "19\n",
      "18\n",
      "17\n",
      "16\n",
      "15\n",
      "14\n",
      "13\n",
      "12\n",
      "11\n",
      "10\n",
      "9\n",
      "8\n",
      "7\n",
      "6\n",
      "5\n",
      "4\n",
      "3\n",
      "2\n",
      "1\n"
     ]
    }
   ],
   "source": [
    "# Q2 Solution\n",
    "i = 20\n",
    "while i >= 1:\n",
    "    print(i)\n",
    "    i -= 1"
   ]
  },
  {
   "cell_type": "markdown",
   "id": "56b935b4",
   "metadata": {},
   "source": [
    "## Q3: Print even numbers from 1 to 10"
   ]
  },
  {
   "cell_type": "code",
   "execution_count": 3,
   "id": "35163ef9",
   "metadata": {},
   "outputs": [
    {
     "name": "stdout",
     "output_type": "stream",
     "text": [
      "2\n",
      "4\n",
      "6\n",
      "8\n",
      "10\n"
     ]
    }
   ],
   "source": [
    "# Q3 Solution\n",
    "for i in range(1, 11):\n",
    "    if i % 2 == 0:\n",
    "        print(i)"
   ]
  },
  {
   "cell_type": "markdown",
   "id": "20e7b3c5",
   "metadata": {},
   "source": [
    "## Q4: Print numbers from 1 to n"
   ]
  },
  {
   "cell_type": "code",
   "execution_count": 4,
   "id": "44e92ec3",
   "metadata": {},
   "outputs": [
    {
     "name": "stdin",
     "output_type": "stream",
     "text": [
      "Enter a number:  3\n"
     ]
    },
    {
     "name": "stdout",
     "output_type": "stream",
     "text": [
      "1\n",
      "2\n",
      "3\n"
     ]
    }
   ],
   "source": [
    "# Q4 Solution\n",
    "n = int(input(\"Enter a number: \"))\n",
    "for i in range(1, n+1):\n",
    "    print(i)"
   ]
  },
  {
   "cell_type": "markdown",
   "id": "f7fdc020",
   "metadata": {},
   "source": [
    "## Q5: Print odd numbers from 1 to n"
   ]
  },
  {
   "cell_type": "code",
   "execution_count": 5,
   "id": "ab56c74d",
   "metadata": {},
   "outputs": [
    {
     "name": "stdin",
     "output_type": "stream",
     "text": [
      "Enter a number:  6\n"
     ]
    },
    {
     "name": "stdout",
     "output_type": "stream",
     "text": [
      "1\n",
      "3\n",
      "5\n"
     ]
    }
   ],
   "source": [
    "# Q5 Solution\n",
    "n = int(input(\"Enter a number: \"))\n",
    "for i in range(1, n+1):\n",
    "    if i % 2 != 0:\n",
    "        print(i)"
   ]
  },
  {
   "cell_type": "markdown",
   "id": "e49e7b88",
   "metadata": {},
   "source": [
    "## Q6: Print 'Happy Birthday!' five times"
   ]
  },
  {
   "cell_type": "code",
   "execution_count": 6,
   "id": "ff6a5909",
   "metadata": {},
   "outputs": [
    {
     "name": "stdout",
     "output_type": "stream",
     "text": [
      "Happy Birthday!\n",
      "Happy Birthday!\n",
      "Happy Birthday!\n",
      "Happy Birthday!\n",
      "Happy Birthday!\n"
     ]
    }
   ],
   "source": [
    "# Q6 Solution\n",
    "for i in range(5):\n",
    "    print(\"Happy Birthday!\")"
   ]
  },
  {
   "cell_type": "markdown",
   "id": "1ec62a25",
   "metadata": {},
   "source": [
    "## Q7: First n terms of square series"
   ]
  },
  {
   "cell_type": "code",
   "execution_count": 7,
   "id": "1e33b4a4",
   "metadata": {},
   "outputs": [
    {
     "name": "stdin",
     "output_type": "stream",
     "text": [
      "Enter a number:  34\n"
     ]
    },
    {
     "name": "stdout",
     "output_type": "stream",
     "text": [
      "The first 34 terms of the series are:\n",
      "1 4 9 16 25 36 49 64 81 100 121 144 169 196 225 256 289 324 361 400 441 484 529 576 625 676 729 784 841 900 961 1024 1089 1156 "
     ]
    }
   ],
   "source": [
    "# Q7 Solution\n",
    "n = int(input(\"Enter a number: \"))\n",
    "print(\"The first\", n, \"terms of the series are:\")\n",
    "for i in range(1, n+1):\n",
    "    print(i*i, end=\" \")"
   ]
  },
  {
   "cell_type": "markdown",
   "id": "03590b39",
   "metadata": {},
   "source": [
    "## Q8: Multiplication table"
   ]
  },
  {
   "cell_type": "code",
   "execution_count": 8,
   "id": "880b4a1a",
   "metadata": {},
   "outputs": [
    {
     "name": "stdin",
     "output_type": "stream",
     "text": [
      "Enter a number:  2\n"
     ]
    },
    {
     "name": "stdout",
     "output_type": "stream",
     "text": [
      "2 x 1 = 2\n",
      "2 x 2 = 4\n",
      "2 x 3 = 6\n",
      "2 x 4 = 8\n",
      "2 x 5 = 10\n",
      "2 x 6 = 12\n",
      "2 x 7 = 14\n",
      "2 x 8 = 16\n",
      "2 x 9 = 18\n",
      "2 x 10 = 20\n"
     ]
    }
   ],
   "source": [
    "# Q8 Solution\n",
    "n = int(input(\"Enter a number: \"))\n",
    "for i in range(1, 11):\n",
    "    print(n, \"x\", i, \"=\", n*i)"
   ]
  },
  {
   "cell_type": "markdown",
   "id": "9bcb4906",
   "metadata": {},
   "source": [
    "## Q9: First 8 terms of arithmetic progression (start=3, diff=4)"
   ]
  },
  {
   "cell_type": "code",
   "execution_count": 9,
   "id": "48a7703f",
   "metadata": {},
   "outputs": [
    {
     "name": "stdout",
     "output_type": "stream",
     "text": [
      "3 7 11 15 19 23 27 31 "
     ]
    }
   ],
   "source": [
    "# Q9 Solution\n",
    "a = 3\n",
    "d = 4\n",
    "for i in range(8):\n",
    "    print(a + i*d, end=\" \")"
   ]
  },
  {
   "cell_type": "markdown",
   "id": "88c13d9b",
   "metadata": {},
   "source": [
    "## Q10: First 6 terms of geometric sequence (start=2, ratio=3)"
   ]
  },
  {
   "cell_type": "code",
   "execution_count": 10,
   "id": "493e9151",
   "metadata": {},
   "outputs": [
    {
     "name": "stdout",
     "output_type": "stream",
     "text": [
      "2 6 18 54 162 486 "
     ]
    }
   ],
   "source": [
    "# Q10 Solution\n",
    "a = 2\n",
    "r = 3\n",
    "for i in range(6):\n",
    "    print(a * (r**i), end=\" \")"
   ]
  },
  {
   "cell_type": "markdown",
   "id": "23d772a4",
   "metadata": {},
   "source": [
    "## Q11: Sum of integers from 1 to n"
   ]
  },
  {
   "cell_type": "code",
   "execution_count": 11,
   "id": "059eef9c",
   "metadata": {},
   "outputs": [
    {
     "name": "stdin",
     "output_type": "stream",
     "text": [
      "Enter a number:  3\n"
     ]
    },
    {
     "name": "stdout",
     "output_type": "stream",
     "text": [
      "Sum = 6\n"
     ]
    }
   ],
   "source": [
    "# Q11 Solution\n",
    "n = int(input(\"Enter a number: \"))\n",
    "total = 0\n",
    "for i in range(1, n+1):\n",
    "    total += i\n",
    "print(\"Sum =\", total)"
   ]
  },
  {
   "cell_type": "markdown",
   "id": "76699c94",
   "metadata": {},
   "source": [
    "## Q12: Sum of reciprocals 1 to N"
   ]
  },
  {
   "cell_type": "code",
   "execution_count": 12,
   "id": "5d8de803",
   "metadata": {},
   "outputs": [
    {
     "name": "stdin",
     "output_type": "stream",
     "text": [
      "Enter a positive integer:  4\n"
     ]
    },
    {
     "name": "stdout",
     "output_type": "stream",
     "text": [
      "The sum of reciprocals from 1 to 4 is: 2.08\n"
     ]
    }
   ],
   "source": [
    "# Q12 Solution\n",
    "n = int(input(\"Enter a positive integer: \"))\n",
    "total = 0\n",
    "for i in range(1, n+1):\n",
    "    total += 1/i\n",
    "print(\"The sum of reciprocals from 1 to\", n, \"is:\", round(total, 2))"
   ]
  },
  {
   "cell_type": "markdown",
   "id": "7d115e64",
   "metadata": {},
   "source": [
    "## Q13: Running total of 5 numbers"
   ]
  },
  {
   "cell_type": "code",
   "execution_count": 13,
   "id": "f61661e9",
   "metadata": {},
   "outputs": [
    {
     "name": "stdin",
     "output_type": "stream",
     "text": [
      "Enter a number:  5\n",
      "Enter a number:  2\n",
      "Enter a number:  4\n",
      "Enter a number:  2\n",
      "Enter a number:  2\n"
     ]
    },
    {
     "name": "stdout",
     "output_type": "stream",
     "text": [
      "The final running total is: 15\n"
     ]
    }
   ],
   "source": [
    "# Q13 Solution\n",
    "total = 0\n",
    "for i in range(5):\n",
    "    num = int(input(\"Enter a number: \"))\n",
    "    total += num\n",
    "print(\"The final running total is:\", total)"
   ]
  },
  {
   "cell_type": "markdown",
   "id": "79ddedba",
   "metadata": {},
   "source": [
    "## Q14: Factorial of a number"
   ]
  },
  {
   "cell_type": "code",
   "execution_count": 14,
   "id": "93228c96",
   "metadata": {},
   "outputs": [
    {
     "name": "stdin",
     "output_type": "stream",
     "text": [
      "Enter a positive integer:  2\n"
     ]
    },
    {
     "name": "stdout",
     "output_type": "stream",
     "text": [
      "Factorial of 2 is 2\n"
     ]
    }
   ],
   "source": [
    "# Q14 Solution\n",
    "n = int(input(\"Enter a positive integer: \"))\n",
    "if n < 0:\n",
    "    print(\"Factorial does not exist for negative numbers\")\n",
    "elif n == 0:\n",
    "    print(\"Factorial of 0 is 1\")\n",
    "else:\n",
    "    fact = 1\n",
    "    for i in range(1, n+1):\n",
    "        fact *= i\n",
    "    print(\"Factorial of\", n, \"is\", fact)"
   ]
  },
  {
   "cell_type": "markdown",
   "id": "a09737b5",
   "metadata": {},
   "source": [
    "## Q15: Power calculation without ** operator"
   ]
  },
  {
   "cell_type": "code",
   "execution_count": 15,
   "id": "2b7f86dd",
   "metadata": {},
   "outputs": [
    {
     "name": "stdin",
     "output_type": "stream",
     "text": [
      "Enter base:  2\n",
      "Enter exponent:  4\n"
     ]
    },
    {
     "name": "stdout",
     "output_type": "stream",
     "text": [
      "2 raised to power 4 is: 16\n"
     ]
    }
   ],
   "source": [
    "# Q15 Solution\n",
    "base = int(input(\"Enter base: \"))\n",
    "exp = int(input(\"Enter exponent: \"))\n",
    "\n",
    "result = 1\n",
    "\n",
    "if exp >= 0:\n",
    "    for i in range(exp):\n",
    "        result *= base\n",
    "else:\n",
    "    for i in range(-exp):\n",
    "        result *= base\n",
    "    result = 1/result\n",
    "\n",
    "print(base, \"raised to power\", exp, \"is:\", result)"
   ]
  },
  {
   "cell_type": "code",
   "execution_count": null,
   "id": "dc77163f-fed2-47d1-8ef9-7af48fd0d595",
   "metadata": {},
   "outputs": [],
   "source": []
  }
 ],
 "metadata": {
  "kernelspec": {
   "display_name": "Python 3 (ipykernel)",
   "language": "python",
   "name": "python3"
  },
  "language_info": {
   "codemirror_mode": {
    "name": "ipython",
    "version": 3
   },
   "file_extension": ".py",
   "mimetype": "text/x-python",
   "name": "python",
   "nbconvert_exporter": "python",
   "pygments_lexer": "ipython3",
   "version": "3.13.5"
  }
 },
 "nbformat": 4,
 "nbformat_minor": 5
}
